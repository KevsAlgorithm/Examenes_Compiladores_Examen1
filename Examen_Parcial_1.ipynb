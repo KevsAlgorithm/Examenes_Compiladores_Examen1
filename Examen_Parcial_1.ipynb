{
 "cells": [
  {
   "cell_type": "markdown",
   "metadata": {
    "id": "T6QJEQ9YlwKm"
   },
   "source": [
    "<h1><center>Universidad Autónoma del Estado de Morelos</center></h1>\n",
    "    \n",
    "<h2><center>Instituto de Investigación en Ciencias Básicas y Aplicadas (IICBA)</center></h2>\n",
    "<h2><center>Centro de Investigación en Ciencias (CINC)</center></h2>\n",
    "\n",
    "<h3><center>Curso: Compiladores</center>\n",
    "<center>Profesor: Mauricio Rosales Rivera</center>\n",
    "<center>Examen Parcial 1</center></h3>\n",
    "    \n",
    "<h3><center>Fecha: Octubre 21, 2020</center></h3>\n",
    "\n",
    "---\n",
    "\n",
    "<h3>Calificación: </h3>\n",
    "\n",
    "---\n",
    "<h4><center>Estudiante</center></h4>\n",
    "<h4>Nombre: Kevin Hernandez Jaramillo</h4>\n",
    "<h4>Matrícula: 10018742</h4>"
   ]
  },
  {
   "cell_type": "markdown",
   "metadata": {
    "id": "lr6K--m4lwKn"
   },
   "source": [
    "Indicaciones: El examen consta de preguntas y ejercicios, las cuales abordan los temas vistos en los Bloques 1 a 3.\n",
    "\n",
    "En la parte teórica, se evaluará la correcta descripción de los términos.\n",
    "\n",
    "Fecha de liberación del examen: Miércoles 21 de octubre.\n",
    "Fecha límite de entrega: Miércoles 28 de octubre (antes de clase)\n",
    "\n",
    "Esta notebook deberá contener el nombre completo y matrícula.\n",
    "\n",
    "En caso de no tener la información aquí solicitada, no se evaluará el examen."
   ]
  },
  {
   "cell_type": "markdown",
   "metadata": {
    "id": "jHCcB5YNlwKo"
   },
   "source": [
    "## Definiciones Básicas (Introducción):"
   ]
  },
  {
   "cell_type": "markdown",
   "metadata": {
    "id": "Wsg1emIilwKp"
   },
   "source": [
    "### 1.- ¿Qué es un compilador y un interprete?"
   ]
  },
  {
   "cell_type": "markdown",
   "metadata": {
    "id": "m8jJ1QdalwKp"
   },
   "source": [
    "Un compilador es un programa muy complejo que traduce el código fuente de un proyecto de software a código máquina antes de su ejecución.  \n",
    "Un intérprete es un programa que procesa el código fuente de un proyecto de software durante su tiempo de ejecución, es decir, actúa como una interfáz entre el proyecto y el procesador."
   ]
  },
  {
   "cell_type": "markdown",
   "metadata": {
    "id": "EP7yiN_-lwKr"
   },
   "source": [
    "### 2.- ¿Cuál es la diferencia entre ellos?"
   ]
  },
  {
   "cell_type": "markdown",
   "metadata": {
    "id": "NUeLaj3KlwKs"
   },
   "source": [
    "El compilador procesa el código fuente, lo revisa, lo traduce a código máquina y al final con este se puede realizar la ejecución.  \n",
    "El intérprete ejecuta el código en tiempo real, lo procesa en tiempo de ejecución, el compilador no."
   ]
  },
  {
   "cell_type": "markdown",
   "metadata": {
    "id": "goPbFA5alwKs"
   },
   "source": [
    "### 3.- ¿Qué es un lenguaje de programación?"
   ]
  },
  {
   "cell_type": "markdown",
   "metadata": {
    "id": "5M0XR76elwKt"
   },
   "source": [
    "Un lenguaje de programación es un lenguaje con reglas gramaticales bien definidas que le proporciona a una persona las herramientas para escribir secuencias de órdenes en forma de algoritmos con el fin de controlar el comportamiento físico o lógico de una computadora."
   ]
  },
  {
   "cell_type": "markdown",
   "metadata": {
    "id": "J_olrNA-lwKt"
   },
   "source": [
    "### 4.- Proporciona un esquema de las fases que comprenden a un compilador"
   ]
  },
  {
   "cell_type": "markdown",
   "metadata": {
    "id": "8Ryo0YValwKu"
   },
   "source": [
    "<img src=fasescompilacion.png>"
   ]
  },
  {
   "cell_type": "markdown",
   "metadata": {
    "id": "3YOX_DP4lwKv"
   },
   "source": [
    "### 5.- ¿Cuáles son las operaciones que llevan a cabo los compiladores e interpretes?"
   ]
  },
  {
   "cell_type": "markdown",
   "metadata": {
    "id": "lv_GuERglwKv"
   },
   "source": [
    "Llevan acabo un análisis léxico del programa a traducir o ejecutar, un análisis sintáctico y un análisis semántico del mismo."
   ]
  },
  {
   "cell_type": "markdown",
   "metadata": {
    "id": "iI2FK-yNlwKw"
   },
   "source": [
    "### 6.- Proporciona al menos 3 tipos de lenguajes de programación y da ejemplos de cada uno de ellos:\n",
    "\n",
    "* El cuerpo deberá tener un ciclo de 10 incrementos y que imprima lo que contiene un valor i"
   ]
  },
  {
   "cell_type": "markdown",
   "metadata": {
    "id": "jOFFHT0ElwKw"
   },
   "source": [
    "Lenguaje de bajo nivel imperativo: \"C\"  \n",
    "int i;  \n",
    "for(i=0;i<10;i++){  \n",
    "&nbsp;&nbsp;&nbsp;&nbsp; printf(\"%d\\n\",i);  \n",
    "}  \n",
    "  \n",
    "Lenguaje de alto nivel multiparadigma: \"Python\"  \n",
    "for i in range(10):  \n",
    "&nbsp;&nbsp;&nbsp;&nbsp; print(i)  \n",
    "    \n",
    "Lenguaje Orientado a Objetos: \"Java\"  \n",
    "for (int i = 0; i < 10; ++i) {  \n",
    "&nbsp;&nbsp;&nbsp;&nbsp; System.out.println(i);  \n",
    "}  "
   ]
  },
  {
   "cell_type": "markdown",
   "metadata": {
    "id": "wlv0U6gclwKx"
   },
   "source": [
    "## Definiciones Básicas (Scanner):"
   ]
  },
  {
   "cell_type": "markdown",
   "metadata": {
    "id": "EYvSLsMElwKx"
   },
   "source": [
    "### 1.- ¿Qué es un analizador léxico?"
   ]
  },
  {
   "cell_type": "markdown",
   "metadata": {
    "id": "BN_GkfWulwKy"
   },
   "source": [
    "Es la primera fase de un compilador, es un programa que recibe como entrada una secuencia de caracteres y produce una salida compuesta por tokens o símbolos."
   ]
  },
  {
   "cell_type": "markdown",
   "metadata": {
    "id": "T9eCrhtglwKy"
   },
   "source": [
    "### 2.- ¿Cuál es la función de un Scanner?"
   ]
  },
  {
   "cell_type": "markdown",
   "metadata": {
    "id": "1KLdVgdplwKz"
   },
   "source": [
    "Su función es leer la secuencia de caracteres del programa fuente, caracter por caracter , y los agrupa para formar unidades con significado propio, tokens."
   ]
  },
  {
   "cell_type": "markdown",
   "metadata": {
    "id": "ne4Y19TulwKz"
   },
   "source": [
    "### 3.- ¿Qué es un autómata y qué elementos los componen?"
   ]
  },
  {
   "cell_type": "markdown",
   "metadata": {
    "id": "QKKV4hQ9lwKz"
   },
   "source": [
    "Es un modelo computacional que realiza cómputos en forma automática sobre una entrada para producir una salida.  \n",
    "Este modelo está conformado por un alfabeto, un conjunto de estados finito, una función de transición, un estado inicial y un conjunto de estados finales."
   ]
  },
  {
   "cell_type": "markdown",
   "metadata": {
    "id": "lE4jib81lwK0"
   },
   "source": [
    "### 4.- ¿Qué es una expresión Regular?"
   ]
  },
  {
   "cell_type": "markdown",
   "metadata": {
    "id": "0oG2RF2-lwK0"
   },
   "source": [
    "Es una secuencia de caracteres que conforma un patrón de búsqueda o generación."
   ]
  },
  {
   "cell_type": "markdown",
   "metadata": {
    "id": "iiQ97I4alwK1"
   },
   "source": [
    "### 5.- Proporciona el esquema para la construcción de:\n",
    "* RE -> NFA -> DFA -> RE"
   ]
  },
  {
   "cell_type": "markdown",
   "metadata": {
    "id": "Z0_9lOUxlwK1"
   },
   "source": [
    "<img src=diagramaRE.png>"
   ]
  },
  {
   "cell_type": "markdown",
   "metadata": {
    "id": "3D_VrbUFlwK2"
   },
   "source": [
    "## Definiciones Básicas (Parser):"
   ]
  },
  {
   "cell_type": "markdown",
   "metadata": {
    "id": "VAOXS0RRlwK2"
   },
   "source": [
    "### 1.-¿Qué es una Parser?"
   ]
  },
  {
   "cell_type": "markdown",
   "metadata": {
    "id": "JC7rD5fPlwK2"
   },
   "source": [
    "Es la fase del analizador que se encarga de revisar el texto de entrada con base en una gramática dada. Y en caso de que el programa de entrada sea válido, suministra el árbol sintactico que lo reconoce."
   ]
  },
  {
   "cell_type": "markdown",
   "metadata": {
    "id": "LEA1EfHWlwK3"
   },
   "source": [
    "### 2.- ¿Qué operaciones realiza el analizador sintáctico?"
   ]
  },
  {
   "cell_type": "markdown",
   "metadata": {
    "id": "qPUfygidlwK3"
   },
   "source": [
    "Accede a la tabla de símbolos.  \n",
    "Realiza chequeo de tipos.  \n",
    "Genera código intermedio.  \n",
    "Genera errores cuando se producen.\n",
    "Compara el stream de tokens contra las reglas de producción de la gramática para detectar cualquier error en el código."
   ]
  },
  {
   "cell_type": "markdown",
   "metadata": {
    "id": "EmduTWxVlwK4"
   },
   "source": [
    "### 3.- Explica la relación que existe entre un Scanner y un Parser"
   ]
  },
  {
   "cell_type": "markdown",
   "metadata": {
    "id": "KGIGEvAZlwK4"
   },
   "source": [
    "El scanner recibe como entrada una secuencia de caracteres que transforma en tokens y envía al parser, según este se lo vaya solicitando."
   ]
  },
  {
   "cell_type": "markdown",
   "metadata": {
    "id": "q41BKqLUlwK4"
   },
   "source": [
    "### 4.- ¿Cómo se lleva a cabo la comunicación entre ellos? Proporciona un diagrama y explicalo"
   ]
  },
  {
   "cell_type": "markdown",
   "metadata": {
    "id": "2tonF4x1lwK5"
   },
   "source": [
    "<img src=relacionparser.png>"
   ]
  },
  {
   "cell_type": "markdown",
   "metadata": {},
   "source": [
    "En analizador léxico (Scanner) recibe como entrada un programa fuente en forma de secuencia de caracteres, los transforma en tokens, y los envía al analizador sintáctico según este los solicite.  \n",
    "Es decir, el Scanner divide la secuencia de entrada en tokens que después tranforma en una secuencia de Terminales desde el punto de vista del analizador sintáctico que de hecho son la entrada de este."
   ]
  },
  {
   "cell_type": "markdown",
   "metadata": {
    "id": "tnc4bdkglwK5"
   },
   "source": [
    "### 5.- ¿Qué es una Gramática Libre de Contexto y qué elementos lo componen?"
   ]
  },
  {
   "cell_type": "markdown",
   "metadata": {
    "id": "kIEVTUsJlwK5"
   },
   "source": [
    "Es una 4-tupla G(N, T, P, S)  \n",
    "N = No terminales  \n",
    "T = Terminales  \n",
    "P = Reglas de producción  \n",
    "S = Axioma inicial  \n",
    "Donde todas sus producciones son de la forma:  \n",
    "N -> (T U N)*"
   ]
  },
  {
   "cell_type": "markdown",
   "metadata": {
    "id": "se6SA5adlwK6"
   },
   "source": [
    "### 6.-¿Cuáles son las Gramáticas tipo LL y LR? Proporciona un ejemplo de ambas y, además, menciona la diferencia entre ellas."
   ]
  },
  {
   "cell_type": "markdown",
   "metadata": {
    "id": "lCl6mQVjlwK7"
   },
   "source": [
    "La gramática tipo LL significa que la entrada será leída de izquierda a derecha y esta se derivará por la izquierda.  \n",
    "Es decir, la entrada será escaneada y remplazada por la regla de producción correspondiente de izquierda a derecha.  \n",
    "Ejemplo:  \n",
    "E = E + E  \n",
    "E = a | b  \n",
    "Obtendremos a+b:  \n",
    "E = E + E  \n",
    "E = a + E  \n",
    "E = a + b  \n",
    "  \n",
    "La gramática tipo LR significa que la entrada será leída de izquierda a derecha y esta se derivará por la Derecha.  \n",
    "Es decir, la entrada será escaneada por la izquierda y remplazada por la regla de producción correspondiente de derecha a izquierda.  \n",
    "Ejemplo:  \n",
    "E = E + E  \n",
    "E = a|b  \n",
    "Obtendremos a+b:  \n",
    "E = E + E  \n",
    "E = E + b  \n",
    "E = a + b  \n",
    "  \n",
    "La diferencia entre las 2 es la forma de derivación, mientras que LL deriva de izquierda a derecha, LR lo hace de derecha a izquierda."
   ]
  },
  {
   "cell_type": "code",
   "execution_count": null,
   "metadata": {},
   "outputs": [],
   "source": []
  }
 ],
 "metadata": {
  "colab": {
   "name": "Examen_Parcial_1.ipynb",
   "provenance": []
  },
  "kernelspec": {
   "display_name": "Python 3",
   "language": "python",
   "name": "python3"
  },
  "language_info": {
   "codemirror_mode": {
    "name": "ipython",
    "version": 3
   },
   "file_extension": ".py",
   "mimetype": "text/x-python",
   "name": "python",
   "nbconvert_exporter": "python",
   "pygments_lexer": "ipython3",
   "version": "3.8.3"
  }
 },
 "nbformat": 4,
 "nbformat_minor": 4
}
